{
  "cells": [
    {
      "cell_type": "code",
      "execution_count": null,
      "id": "024017c6",
      "metadata": {
        "execution": {
          "iopub.execute_input": "2024-10-06T12:52:49.119540Z",
          "iopub.status.busy": "2024-10-06T12:52:49.119037Z",
          "iopub.status.idle": "2024-10-06T12:54:26.124312Z",
          "shell.execute_reply": "2024-10-06T12:54:26.123307Z"
        },
        "papermill": {
          "duration": 97.013253,
          "end_time": "2024-10-06T12:54:26.126627",
          "exception": false,
          "start_time": "2024-10-06T12:52:49.113374",
          "status": "completed"
        },
        "tags": [],
        "id": "024017c6",
        "outputId": "626fc774-8778-4b11-dede-71976f9e908e"
      },
      "outputs": [
        {
          "name": "stderr",
          "output_type": "stream",
          "text": [
            "100%|██████████| 996/996 [01:25<00:00, 11.58it/s]\n",
            "100%|██████████| 2/2 [00:00<00:00,  9.14it/s]\n"
          ]
        }
      ],
      "source": [
        "import numpy as np\n",
        "import pandas as pd\n",
        "import os\n",
        "import re\n",
        "from sklearn.base import clone\n",
        "from sklearn.metrics import cohen_kappa_score\n",
        "from sklearn.model_selection import StratifiedKFold\n",
        "from scipy.optimize import minimize\n",
        "from concurrent.futures import ThreadPoolExecutor\n",
        "from tqdm import tqdm\n",
        "\n",
        "from colorama import Fore, Style\n",
        "from IPython.display import clear_output\n",
        "import warnings\n",
        "from lightgbm import LGBMRegressor\n",
        "from xgboost import XGBRegressor\n",
        "from catboost import CatBoostRegressor\n",
        "from sklearn.ensemble import VotingRegressor\n",
        "\n",
        "warnings.filterwarnings('ignore')\n",
        "pd.options.display.max_columns = None\n",
        "\n",
        "SEED = 42\n",
        "n_splits = 5\n",
        "\n",
        "# Load datasets\n",
        "train = pd.read_csv('/kaggle/input/child-mind-institute-problematic-internet-use/train.csv')\n",
        "test = pd.read_csv('/kaggle/input/child-mind-institute-problematic-internet-use/test.csv')\n",
        "sample = pd.read_csv('/kaggle/input/child-mind-institute-problematic-internet-use/sample_submission.csv')\n",
        "\n",
        "def process_file(filename, dirname):\n",
        "    df = pd.read_parquet(os.path.join(dirname, filename, 'part-0.parquet'))\n",
        "    df.drop('step', axis=1, inplace=True)\n",
        "    return df.describe().values.reshape(-1), filename.split('=')[1]\n",
        "\n",
        "def load_time_series(dirname) -> pd.DataFrame:\n",
        "    ids = os.listdir(dirname)\n",
        "\n",
        "    with ThreadPoolExecutor() as executor:\n",
        "        results = list(tqdm(executor.map(lambda fname: process_file(fname, dirname), ids), total=len(ids)))\n",
        "\n",
        "    stats, indexes = zip(*results)\n",
        "\n",
        "    df = pd.DataFrame(stats, columns=[f\"stat_{i}\" for i in range(len(stats[0]))])\n",
        "    df['id'] = indexes\n",
        "\n",
        "    return df\n",
        "\n",
        "# Load time series data\n",
        "train_ts = load_time_series(\"/kaggle/input/child-mind-institute-problematic-internet-use/series_train.parquet\")\n",
        "test_ts = load_time_series(\"/kaggle/input/child-mind-institute-problematic-internet-use/series_test.parquet\")\n",
        "\n",
        "time_series_cols = train_ts.columns.tolist()\n",
        "time_series_cols.remove(\"id\")\n",
        "\n",
        "# Merge time series statistics with main datasets\n",
        "train = pd.merge(train, train_ts, how=\"left\", on='id')\n",
        "test = pd.merge(test, test_ts, how=\"left\", on='id')\n",
        "\n",
        "# Drop unnecessary columns\n",
        "train = train.drop('id', axis=1)\n",
        "test = test.drop('id', axis=1)"
      ]
    },
    {
      "cell_type": "code",
      "execution_count": null,
      "id": "762457e0",
      "metadata": {
        "execution": {
          "iopub.execute_input": "2024-10-06T12:54:26.188386Z",
          "iopub.status.busy": "2024-10-06T12:54:26.188060Z",
          "iopub.status.idle": "2024-10-06T12:54:26.418653Z",
          "shell.execute_reply": "2024-10-06T12:54:26.417748Z"
        },
        "papermill": {
          "duration": 0.263175,
          "end_time": "2024-10-06T12:54:26.421004",
          "exception": false,
          "start_time": "2024-10-06T12:54:26.157829",
          "status": "completed"
        },
        "tags": [],
        "id": "762457e0"
      },
      "outputs": [],
      "source": [
        "from imblearn.over_sampling import SMOTE"
      ]
    },
    {
      "cell_type": "code",
      "execution_count": null,
      "id": "bbd35fc3",
      "metadata": {
        "execution": {
          "iopub.execute_input": "2024-10-06T12:54:26.484257Z",
          "iopub.status.busy": "2024-10-06T12:54:26.483672Z",
          "iopub.status.idle": "2024-10-06T12:54:26.570691Z",
          "shell.execute_reply": "2024-10-06T12:54:26.569683Z"
        },
        "papermill": {
          "duration": 0.119194,
          "end_time": "2024-10-06T12:54:26.572642",
          "exception": false,
          "start_time": "2024-10-06T12:54:26.453448",
          "status": "completed"
        },
        "tags": [],
        "id": "bbd35fc3"
      },
      "outputs": [],
      "source": [
        "featuresCols = [\n",
        "    'Basic_Demos-Enroll_Season', 'Basic_Demos-Age', 'Basic_Demos-Sex',\n",
        "    'CGAS-Season', 'CGAS-CGAS_Score', 'Physical-Season', 'Physical-BMI',\n",
        "    'Physical-Height', 'Physical-Weight', 'Physical-Waist_Circumference',\n",
        "    'Physical-Diastolic_BP', 'Physical-HeartRate', 'Physical-Systolic_BP',\n",
        "    'Fitness_Endurance-Season', 'Fitness_Endurance-Max_Stage',\n",
        "    'Fitness_Endurance-Time_Mins', 'Fitness_Endurance-Time_Sec',\n",
        "    'FGC-Season', 'FGC-FGC_CU', 'FGC-FGC_CU_Zone', 'FGC-FGC_GSND',\n",
        "    'FGC-FGC_GSND_Zone', 'FGC-FGC_GSD', 'FGC-FGC_GSD_Zone', 'FGC-FGC_PU',\n",
        "    'FGC-FGC_PU_Zone', 'FGC-FGC_SRL', 'FGC-FGC_SRL_Zone', 'FGC-FGC_SRR',\n",
        "    'FGC-FGC_SRR_Zone', 'FGC-FGC_TL', 'FGC-FGC_TL_Zone', 'BIA-Season',\n",
        "    'BIA-BIA_Activity_Level_num', 'BIA-BIA_BMC', 'BIA-BIA_BMI',\n",
        "    'BIA-BIA_BMR', 'BIA-BIA_DEE', 'BIA-BIA_ECW', 'BIA-BIA_FFM',\n",
        "    'BIA-BIA_FFMI', 'BIA-BIA_FMI', 'BIA-BIA_Fat', 'BIA-BIA_Frame_num',\n",
        "    'BIA-BIA_ICW', 'BIA-BIA_LDM', 'BIA-BIA_LST', 'BIA-BIA_SMM',\n",
        "    'BIA-BIA_TBW', 'PAQ_A-Season', 'PAQ_A-PAQ_A_Total', 'PAQ_C-Season',\n",
        "    'PAQ_C-PAQ_C_Total', 'SDS-Season', 'SDS-SDS_Total_Raw',\n",
        "    'SDS-SDS_Total_T', 'PreInt_EduHx-Season',\n",
        "    'PreInt_EduHx-computerinternet_hoursday', 'sii'\n",
        "]\n",
        "\n",
        "featuresCols += time_series_cols\n",
        "\n",
        "train = train[featuresCols]\n",
        "train = train.dropna(subset='sii')\n",
        "\n",
        "cat_c = [\n",
        "    'Basic_Demos-Enroll_Season', 'CGAS-Season', 'Physical-Season',\n",
        "    'Fitness_Endurance-Season', 'FGC-Season', 'BIA-Season',\n",
        "    'PAQ_A-Season', 'PAQ_C-Season', 'SDS-Season', 'PreInt_EduHx-Season'\n",
        "]\n",
        "\n",
        "def update(df):\n",
        "    global cat_c\n",
        "    for c in cat_c:\n",
        "        df[c] = df[c].fillna('Missing')\n",
        "        df[c] = df[c].astype('category')\n",
        "    return df\n",
        "\n",
        "train = update(train)\n",
        "test = update(test)\n",
        "\n",
        "def create_mapping(column, dataset):\n",
        "    unique_values = dataset[column].unique()\n",
        "    return {value: idx for idx, value in enumerate(unique_values)}\n",
        "\n",
        "for col in cat_c:\n",
        "    mapping = create_mapping(col, train)\n",
        "    mappingTe = create_mapping(col, test)\n",
        "\n",
        "    train[col] = train[col].replace(mapping).astype(int)\n",
        "    test[col] = test[col].replace(mappingTe).astype(int)\n",
        "\n",
        "def quadratic_weighted_kappa(y_true, y_pred):\n",
        "    return cohen_kappa_score(y_true, y_pred, weights='quadratic')\n",
        "\n",
        "def threshold_Rounder(oof_non_rounded, thresholds):\n",
        "    return np.where(oof_non_rounded < thresholds[0], 0,\n",
        "                    np.where(oof_non_rounded < thresholds[1], 1,\n",
        "                             np.where(oof_non_rounded < thresholds[2], 2, 3)))\n",
        "\n",
        "def evaluate_predictions(thresholds, y_true, oof_non_rounded):\n",
        "    rounded_p = threshold_Rounder(oof_non_rounded, thresholds)\n",
        "    return -quadratic_weighted_kappa(y_true, rounded_p)\n",
        "\n",
        "\n",
        "def TrainML(model_class, test_data):\n",
        "    X = train.drop(['sii'], axis=1)\n",
        "    y = train['sii']\n",
        "\n",
        "    SKF = StratifiedKFold(n_splits=n_splits, shuffle=True, random_state=SEED)\n",
        "\n",
        "    train_S = []\n",
        "    test_S = []\n",
        "\n",
        "    oof_non_rounded = np.zeros(len(y), dtype=float)\n",
        "    oof_rounded = np.zeros(len(y), dtype=int)\n",
        "    test_preds = np.zeros((len(test_data), n_splits))\n",
        "\n",
        "    for fold, (train_idx, test_idx) in enumerate(tqdm(SKF.split(X, y), desc=\"Training Folds\", total=n_splits)):\n",
        "        X_train, X_val = X.iloc[train_idx], X.iloc[test_idx]\n",
        "        y_train, y_val = y.iloc[train_idx], y.iloc[test_idx]\n",
        "\n",
        "        model = clone(model_class)\n",
        "        model.fit(X_train, y_train)\n",
        "\n",
        "        y_train_pred = model.predict(X_train)\n",
        "        y_val_pred = model.predict(X_val)\n",
        "\n",
        "        oof_non_rounded[test_idx] = y_val_pred\n",
        "        y_val_pred_rounded = y_val_pred.round(0).astype(int)\n",
        "        oof_rounded[test_idx] = y_val_pred_rounded\n",
        "\n",
        "        train_kappa = quadratic_weighted_kappa(y_train, y_train_pred.round(0).astype(int))\n",
        "        val_kappa = quadratic_weighted_kappa(y_val, y_val_pred_rounded)\n",
        "\n",
        "        train_S.append(train_kappa)\n",
        "        test_S.append(val_kappa)\n",
        "\n",
        "        test_preds[:, fold] = model.predict(test_data)\n",
        "\n",
        "        print(f\"Fold {fold+1} - Train QWK: {train_kappa:.4f}, Validation QWK: {val_kappa:.4f}\")\n",
        "        clear_output(wait=True)\n",
        "\n",
        "    print(f\"Mean Train QWK --> {np.mean(train_S):.4f}\")\n",
        "    print(f\"Mean Validation QWK ---> {np.mean(test_S):.4f}\")\n",
        "\n",
        "    KappaOPtimizer = minimize(evaluate_predictions,\n",
        "                              x0=[0.5, 1.5, 2.5], args=(y, oof_non_rounded),\n",
        "                              method='Nelder-Mead')\n",
        "    assert KappaOPtimizer.success, \"Optimization did not converge.\"\n",
        "\n",
        "    oof_tuned = threshold_Rounder(oof_non_rounded, KappaOPtimizer.x)\n",
        "    tKappa = quadratic_weighted_kappa(y, oof_tuned)\n",
        "\n",
        "    print(f\"----> || Optimized QWK SCORE :: {Fore.CYAN}{Style.BRIGHT} {tKappa:.3f}{Style.RESET_ALL}\")\n",
        "\n",
        "    tpm = test_preds.mean(axis=1)\n",
        "    tpTuned = threshold_Rounder(tpm, KappaOPtimizer.x)\n",
        "\n",
        "    submission = pd.DataFrame({\n",
        "        'id': sample['id'],\n",
        "        'sii': tpTuned\n",
        "    })\n",
        "\n",
        "    return submission\n"
      ]
    },
    {
      "cell_type": "code",
      "execution_count": null,
      "id": "6112c427",
      "metadata": {
        "execution": {
          "iopub.execute_input": "2024-10-06T12:54:26.634439Z",
          "iopub.status.busy": "2024-10-06T12:54:26.634095Z",
          "iopub.status.idle": "2024-10-06T12:54:26.644814Z",
          "shell.execute_reply": "2024-10-06T12:54:26.643975Z"
        },
        "papermill": {
          "duration": 0.044813,
          "end_time": "2024-10-06T12:54:26.646823",
          "exception": false,
          "start_time": "2024-10-06T12:54:26.602010",
          "status": "completed"
        },
        "tags": [],
        "id": "6112c427",
        "outputId": "511e0fb4-b790-4cfc-fb40-9b289d755af1"
      },
      "outputs": [
        {
          "data": {
            "text/plain": [
              "sii\n",
              "0.0    1594\n",
              "1.0     730\n",
              "2.0     378\n",
              "3.0      34\n",
              "Name: count, dtype: int64"
            ]
          },
          "execution_count": 4,
          "metadata": {},
          "output_type": "execute_result"
        }
      ],
      "source": [
        "train['sii'].value_counts()"
      ]
    },
    {
      "cell_type": "code",
      "execution_count": null,
      "id": "520a94e1",
      "metadata": {
        "execution": {
          "iopub.execute_input": "2024-10-06T12:54:26.712053Z",
          "iopub.status.busy": "2024-10-06T12:54:26.711713Z",
          "iopub.status.idle": "2024-10-06T12:54:53.976559Z",
          "shell.execute_reply": "2024-10-06T12:54:53.974934Z"
        },
        "papermill": {
          "duration": 27.301261,
          "end_time": "2024-10-06T12:54:53.979494",
          "exception": false,
          "start_time": "2024-10-06T12:54:26.678233",
          "status": "completed"
        },
        "tags": [],
        "id": "520a94e1",
        "outputId": "13d2a779-3250-46d5-877d-d3b99da9e252"
      },
      "outputs": [
        {
          "name": "stderr",
          "output_type": "stream",
          "text": [
            "Training Folds: 100%|██████████| 5/5 [00:26<00:00,  5.37s/it]"
          ]
        },
        {
          "name": "stdout",
          "output_type": "stream",
          "text": [
            "Mean Train QWK --> 0.8853\n",
            "Mean Validation QWK ---> 0.3871\n"
          ]
        },
        {
          "name": "stderr",
          "output_type": "stream",
          "text": [
            "\n"
          ]
        },
        {
          "name": "stdout",
          "output_type": "stream",
          "text": [
            "----> || Optimized QWK SCORE :: \u001b[36m\u001b[1m 0.450\u001b[0m\n",
            "sii\n",
            "0    12\n",
            "1     6\n",
            "2     2\n",
            "Name: count, dtype: int64\n"
          ]
        }
      ],
      "source": [
        "# Model parameters for LightGBM\n",
        "Params = {\n",
        "    'learning_rate': 0.04,\n",
        "    'max_depth': 13,\n",
        "    'num_leaves': 478,\n",
        "    'min_data_in_leaf': 13,\n",
        "    'feature_fraction': 0.893,\n",
        "    'bagging_fraction': 0.784,\n",
        "    'bagging_freq': 4,\n",
        "    'lambda_l1': 7,  # Increased from 6.59\n",
        "    'lambda_l2': 1.07,  # Increased from 2.68e-06\n",
        "    'device': 'gpu'\n",
        "}\n",
        "\n",
        "# XGBoost parameters\n",
        "XGB_Params = {\n",
        "    'learning_rate': 0.03,\n",
        "    'max_depth': 8,\n",
        "    'n_estimators': 200,\n",
        "    'subsample': 0.8,\n",
        "    'colsample_bytree': 0.8,\n",
        "    'reg_alpha': 0.3,  # Increased from 0.1\n",
        "    'reg_lambda': 2,  # Increased from 1\n",
        "    'random_state': SEED,\n",
        "    'tree_method': 'gpu_hist',\n",
        "}\n",
        "\n",
        "# Create model instances\n",
        "Light = LGBMRegressor(**Params, random_state=SEED, verbose=-1, n_estimators=200)\n",
        "XGB_Model = XGBRegressor(**XGB_Params)\n",
        "\n",
        "# Combine models using Voting Regressor\n",
        "voting_model = VotingRegressor(estimators=[\n",
        "    ('lightgbm', Light),\n",
        "    ('xgboost', XGB_Model),\n",
        "])\n",
        "\n",
        "# Train the ensemble model\n",
        "Submission = TrainML(voting_model, test)\n",
        "\n",
        "# Save submission\n",
        "Submission.to_csv('submission.csv', index=False)\n",
        "print(Submission['sii'].value_counts())"
      ]
    }
  ],
  "metadata": {
    "kaggle": {
      "accelerator": "nvidiaTeslaT4",
      "dataSources": [
        {
          "databundleVersionId": 9643020,
          "sourceId": 81933,
          "sourceType": "competition"
        }
      ],
      "dockerImageVersionId": 30762,
      "isGpuEnabled": true,
      "isInternetEnabled": false,
      "language": "python",
      "sourceType": "notebook"
    },
    "kernelspec": {
      "display_name": "Python 3",
      "language": "python",
      "name": "python3"
    },
    "language_info": {
      "codemirror_mode": {
        "name": "ipython",
        "version": 3
      },
      "file_extension": ".py",
      "mimetype": "text/x-python",
      "name": "python",
      "nbconvert_exporter": "python",
      "pygments_lexer": "ipython3",
      "version": "3.10.14"
    },
    "papermill": {
      "default_parameters": {},
      "duration": 129.845078,
      "end_time": "2024-10-06T12:54:54.939112",
      "environment_variables": {},
      "exception": null,
      "input_path": "__notebook__.ipynb",
      "output_path": "__notebook__.ipynb",
      "parameters": {},
      "start_time": "2024-10-06T12:52:45.094034",
      "version": "2.6.0"
    },
    "colab": {
      "provenance": []
    }
  },
  "nbformat": 4,
  "nbformat_minor": 5
}